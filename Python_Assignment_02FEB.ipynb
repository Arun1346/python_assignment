{
  "nbformat": 4,
  "nbformat_minor": 0,
  "metadata": {
    "colab": {
      "provenance": []
    },
    "kernelspec": {
      "name": "python3",
      "display_name": "Python 3"
    },
    "language_info": {
      "name": "python"
    }
  },
  "cells": [
    {
      "cell_type": "code",
      "execution_count": 1,
      "metadata": {
        "id": "vzMvO6e6xbLp"
      },
      "outputs": [],
      "source": [
        "l1=[45,3,\"Arun\",[1,2,3],4,\"2.5\",4.95]"
      ]
    },
    {
      "cell_type": "code",
      "source": [
        "l1.pop(2)"
      ],
      "metadata": {
        "colab": {
          "base_uri": "https://localhost:8080/",
          "height": 36
        },
        "id": "jFQg9oXIx1GW",
        "outputId": "66742b17-1a2c-48ed-cfc5-a0ef045ab4bd"
      },
      "execution_count": 2,
      "outputs": [
        {
          "output_type": "execute_result",
          "data": {
            "text/plain": [
              "'Arun'"
            ],
            "application/vnd.google.colaboratory.intrinsic+json": {
              "type": "string"
            }
          },
          "metadata": {},
          "execution_count": 2
        }
      ]
    },
    {
      "cell_type": "code",
      "source": [
        "l1"
      ],
      "metadata": {
        "colab": {
          "base_uri": "https://localhost:8080/"
        },
        "id": "2x9mFQsFyDCy",
        "outputId": "d81b594c-63fc-4412-ce1a-ad52fca09261"
      },
      "execution_count": 3,
      "outputs": [
        {
          "output_type": "execute_result",
          "data": {
            "text/plain": [
              "[45, 3, [1, 2, 3], 4, '2.5', 4.95]"
            ]
          },
          "metadata": {},
          "execution_count": 3
        }
      ]
    },
    {
      "cell_type": "code",
      "source": [
        "l1.remove(4)"
      ],
      "metadata": {
        "id": "JbgndPXryG-W"
      },
      "execution_count": 4,
      "outputs": []
    },
    {
      "cell_type": "code",
      "source": [
        "l1"
      ],
      "metadata": {
        "colab": {
          "base_uri": "https://localhost:8080/"
        },
        "id": "qi-bDWk1yKlI",
        "outputId": "443ef30e-5396-4a20-c701-adb2124353c9"
      },
      "execution_count": 5,
      "outputs": [
        {
          "output_type": "execute_result",
          "data": {
            "text/plain": [
              "[45, 3, [1, 2, 3], '2.5', 4.95]"
            ]
          },
          "metadata": {},
          "execution_count": 5
        }
      ]
    },
    {
      "cell_type": "code",
      "source": [
        "l1[2].remove(3)"
      ],
      "metadata": {
        "id": "6EAV31SwyL7e"
      },
      "execution_count": 6,
      "outputs": []
    },
    {
      "cell_type": "code",
      "source": [
        "l1"
      ],
      "metadata": {
        "colab": {
          "base_uri": "https://localhost:8080/"
        },
        "id": "WUFxCn75yWKc",
        "outputId": "fdeb5450-4fe6-4314-cff3-5659e3c023b1"
      },
      "execution_count": 7,
      "outputs": [
        {
          "output_type": "execute_result",
          "data": {
            "text/plain": [
              "[45, 3, [1, 2], '2.5', 4.95]"
            ]
          },
          "metadata": {},
          "execution_count": 7
        }
      ]
    },
    {
      "cell_type": "code",
      "source": [
        "l1.append(\"Arun\")"
      ],
      "metadata": {
        "id": "y2-FNqqDyXks"
      },
      "execution_count": 8,
      "outputs": []
    },
    {
      "cell_type": "code",
      "source": [
        "l1"
      ],
      "metadata": {
        "colab": {
          "base_uri": "https://localhost:8080/"
        },
        "id": "G6SsD6jEyd80",
        "outputId": "d4657c52-e329-48f5-d281-7859b3e53bb5"
      },
      "execution_count": 9,
      "outputs": [
        {
          "output_type": "execute_result",
          "data": {
            "text/plain": [
              "[45, 3, [1, 2], '2.5', 4.95, 'Arun']"
            ]
          },
          "metadata": {},
          "execution_count": 9
        }
      ]
    },
    {
      "cell_type": "code",
      "source": [
        "l1.append(4)"
      ],
      "metadata": {
        "id": "906LPq-YyfE3"
      },
      "execution_count": 11,
      "outputs": []
    },
    {
      "cell_type": "code",
      "source": [
        "l1.append(4)"
      ],
      "metadata": {
        "id": "y5NtO1dDyyRG"
      },
      "execution_count": 12,
      "outputs": []
    },
    {
      "cell_type": "code",
      "source": [
        "l1.reverse()"
      ],
      "metadata": {
        "id": "z29DDKkiy4uO"
      },
      "execution_count": 13,
      "outputs": []
    },
    {
      "cell_type": "code",
      "source": [
        "l1"
      ],
      "metadata": {
        "colab": {
          "base_uri": "https://localhost:8080/"
        },
        "id": "gOvObv9Ay9AC",
        "outputId": "03707d6c-53c0-4bef-a126-cd365e9294b0"
      },
      "execution_count": 14,
      "outputs": [
        {
          "output_type": "execute_result",
          "data": {
            "text/plain": [
              "[4, 4, 'Arun', 4.95, '2.5', [1, 2], 3, 45]"
            ]
          },
          "metadata": {},
          "execution_count": 14
        }
      ]
    },
    {
      "cell_type": "code",
      "source": [
        "l1.reverse()"
      ],
      "metadata": {
        "id": "f-OhQnPAy998"
      },
      "execution_count": 15,
      "outputs": []
    },
    {
      "cell_type": "code",
      "source": [
        "l1[::-1]"
      ],
      "metadata": {
        "colab": {
          "base_uri": "https://localhost:8080/"
        },
        "id": "Ajc6JnVczErQ",
        "outputId": "da3e15a8-f114-42e0-e481-f11a3a6edf07"
      },
      "execution_count": 16,
      "outputs": [
        {
          "output_type": "execute_result",
          "data": {
            "text/plain": [
              "[4, 4, 'Arun', 4.95, '2.5', [1, 2], 3, 45]"
            ]
          },
          "metadata": {},
          "execution_count": 16
        }
      ]
    },
    {
      "cell_type": "code",
      "source": [
        "l2=[3,2,6,4,5,9,2,7,8,1,5]"
      ],
      "metadata": {
        "id": "-TzVU2EvzIj3"
      },
      "execution_count": 17,
      "outputs": []
    },
    {
      "cell_type": "code",
      "source": [
        "l2.sort()"
      ],
      "metadata": {
        "id": "Hu5Dynf6zxt2"
      },
      "execution_count": 18,
      "outputs": []
    },
    {
      "cell_type": "code",
      "source": [
        "l2"
      ],
      "metadata": {
        "colab": {
          "base_uri": "https://localhost:8080/"
        },
        "id": "pZwS3lzrz0px",
        "outputId": "06fa8d12-9a3a-4c46-c190-82308520778f"
      },
      "execution_count": 19,
      "outputs": [
        {
          "output_type": "execute_result",
          "data": {
            "text/plain": [
              "[1, 2, 2, 3, 4, 5, 5, 6, 7, 8, 9]"
            ]
          },
          "metadata": {},
          "execution_count": 19
        }
      ]
    },
    {
      "cell_type": "code",
      "source": [
        "l2.index(2)"
      ],
      "metadata": {
        "colab": {
          "base_uri": "https://localhost:8080/"
        },
        "id": "6PhbwlGzz1vK",
        "outputId": "0225cb5d-c838-4069-b902-ea9655d95298"
      },
      "execution_count": 23,
      "outputs": [
        {
          "output_type": "execute_result",
          "data": {
            "text/plain": [
              "1"
            ]
          },
          "metadata": {},
          "execution_count": 23
        }
      ]
    },
    {
      "cell_type": "code",
      "source": [
        "l2.count(5)"
      ],
      "metadata": {
        "colab": {
          "base_uri": "https://localhost:8080/"
        },
        "id": "Iv6zyW6N0Qds",
        "outputId": "cc805def-db22-4d9f-a012-fce80c0d31f5"
      },
      "execution_count": 24,
      "outputs": [
        {
          "output_type": "execute_result",
          "data": {
            "text/plain": [
              "2"
            ]
          },
          "metadata": {},
          "execution_count": 24
        }
      ]
    },
    {
      "cell_type": "code",
      "source": [
        "a=\"Arun\""
      ],
      "metadata": {
        "id": "Vj0RdUE10igL"
      },
      "execution_count": 25,
      "outputs": []
    },
    {
      "cell_type": "code",
      "source": [
        "a[0]"
      ],
      "metadata": {
        "colab": {
          "base_uri": "https://localhost:8080/",
          "height": 36
        },
        "id": "11r8CGjS0vS2",
        "outputId": "6066e529-ffa1-4e0f-ebd1-474e265914c8"
      },
      "execution_count": 26,
      "outputs": [
        {
          "output_type": "execute_result",
          "data": {
            "text/plain": [
              "'A'"
            ],
            "application/vnd.google.colaboratory.intrinsic+json": {
              "type": "string"
            }
          },
          "metadata": {},
          "execution_count": 26
        }
      ]
    },
    {
      "cell_type": "code",
      "source": [
        "a[0]"
      ],
      "metadata": {
        "colab": {
          "base_uri": "https://localhost:8080/",
          "height": 36
        },
        "id": "laDQmYbk0wBk",
        "outputId": "ac745820-a651-47b8-be38-c2b3e852e0b1"
      },
      "execution_count": 28,
      "outputs": [
        {
          "output_type": "execute_result",
          "data": {
            "text/plain": [
              "'A'"
            ],
            "application/vnd.google.colaboratory.intrinsic+json": {
              "type": "string"
            }
          },
          "metadata": {},
          "execution_count": 28
        }
      ]
    },
    {
      "cell_type": "code",
      "source": [
        "#strings are immutable\n",
        "#lists are mutable\n",
        "#tuples are immutable\n"
      ],
      "metadata": {
        "id": "kCn2Sz4f0yVi"
      },
      "execution_count": 29,
      "outputs": []
    },
    {
      "cell_type": "code",
      "source": [
        "a.replace(\"A\",\"a\")"
      ],
      "metadata": {
        "colab": {
          "base_uri": "https://localhost:8080/",
          "height": 36
        },
        "id": "sD55SsYS1gtW",
        "outputId": "11ccbb51-1bc4-4f58-f2d0-21b7ab881e03"
      },
      "execution_count": 30,
      "outputs": [
        {
          "output_type": "execute_result",
          "data": {
            "text/plain": [
              "'arun'"
            ],
            "application/vnd.google.colaboratory.intrinsic+json": {
              "type": "string"
            }
          },
          "metadata": {},
          "execution_count": 30
        }
      ]
    },
    {
      "cell_type": "code",
      "source": [
        "a"
      ],
      "metadata": {
        "colab": {
          "base_uri": "https://localhost:8080/",
          "height": 36
        },
        "id": "McaQeeDn1pBD",
        "outputId": "dc11a8f0-945c-4248-9d9d-0297de78db08"
      },
      "execution_count": 31,
      "outputs": [
        {
          "output_type": "execute_result",
          "data": {
            "text/plain": [
              "'Arun'"
            ],
            "application/vnd.google.colaboratory.intrinsic+json": {
              "type": "string"
            }
          },
          "metadata": {},
          "execution_count": 31
        }
      ]
    },
    {
      "cell_type": "code",
      "source": [
        "#tuples\n",
        "t=(2,3,4,5,\"arun\",63.66,True,[3,6,90],2+3j)"
      ],
      "metadata": {
        "id": "JRGLl8zE1qss"
      },
      "execution_count": 32,
      "outputs": []
    },
    {
      "cell_type": "code",
      "source": [
        "type(t)"
      ],
      "metadata": {
        "colab": {
          "base_uri": "https://localhost:8080/"
        },
        "id": "yficHBY42MVG",
        "outputId": "2ee1d945-8a6f-476c-e0ee-a21af4b5c612"
      },
      "execution_count": 33,
      "outputs": [
        {
          "output_type": "execute_result",
          "data": {
            "text/plain": [
              "tuple"
            ]
          },
          "metadata": {},
          "execution_count": 33
        }
      ]
    },
    {
      "cell_type": "code",
      "source": [
        "len(t)"
      ],
      "metadata": {
        "colab": {
          "base_uri": "https://localhost:8080/"
        },
        "id": "FdFFGtaB2N9G",
        "outputId": "d2e2b6b9-e84b-4675-accc-d5768e77e7a3"
      },
      "execution_count": 34,
      "outputs": [
        {
          "output_type": "execute_result",
          "data": {
            "text/plain": [
              "9"
            ]
          },
          "metadata": {},
          "execution_count": 34
        }
      ]
    },
    {
      "cell_type": "code",
      "source": [
        "t[0]"
      ],
      "metadata": {
        "colab": {
          "base_uri": "https://localhost:8080/"
        },
        "id": "mYjk_F032Pyu",
        "outputId": "08cd5987-8c99-44da-bb0b-3ad27a863d6e"
      },
      "execution_count": 35,
      "outputs": [
        {
          "output_type": "execute_result",
          "data": {
            "text/plain": [
              "2"
            ]
          },
          "metadata": {},
          "execution_count": 35
        }
      ]
    },
    {
      "cell_type": "code",
      "source": [
        "\n",
        "t[-1]"
      ],
      "metadata": {
        "colab": {
          "base_uri": "https://localhost:8080/"
        },
        "id": "F7xYGsYu2R0d",
        "outputId": "bba7c8dc-4a78-4b50-dfb5-37abbbda224a"
      },
      "execution_count": 36,
      "outputs": [
        {
          "output_type": "execute_result",
          "data": {
            "text/plain": [
              "(2+3j)"
            ]
          },
          "metadata": {},
          "execution_count": 36
        }
      ]
    },
    {
      "cell_type": "code",
      "source": [
        "t[::-1]"
      ],
      "metadata": {
        "colab": {
          "base_uri": "https://localhost:8080/"
        },
        "id": "4I2RMjhD2S4E",
        "outputId": "27b72f33-9a9c-4f8d-d567-679306700098"
      },
      "execution_count": 37,
      "outputs": [
        {
          "output_type": "execute_result",
          "data": {
            "text/plain": [
              "((2+3j), [3, 6, 90], True, 63.66, 'arun', 5, 4, 3, 2)"
            ]
          },
          "metadata": {},
          "execution_count": 37
        }
      ]
    },
    {
      "cell_type": "code",
      "source": [
        "t.count(\"arun\")"
      ],
      "metadata": {
        "colab": {
          "base_uri": "https://localhost:8080/"
        },
        "id": "xaGmSC8x2VeT",
        "outputId": "85d25982-c7d6-4d0b-f76c-8285ab23162c"
      },
      "execution_count": 39,
      "outputs": [
        {
          "output_type": "execute_result",
          "data": {
            "text/plain": [
              "1"
            ]
          },
          "metadata": {},
          "execution_count": 39
        }
      ]
    },
    {
      "cell_type": "code",
      "source": [
        "t.index(\"arun\")"
      ],
      "metadata": {
        "colab": {
          "base_uri": "https://localhost:8080/"
        },
        "id": "QLnPUBmD3F6v",
        "outputId": "6baf1231-7eab-4171-e39a-a5f9435f34e0"
      },
      "execution_count": 40,
      "outputs": [
        {
          "output_type": "execute_result",
          "data": {
            "text/plain": [
              "4"
            ]
          },
          "metadata": {},
          "execution_count": 40
        }
      ]
    },
    {
      "cell_type": "code",
      "source": [
        "#Set\n",
        "s1={}\n",
        "type(s1)"
      ],
      "metadata": {
        "colab": {
          "base_uri": "https://localhost:8080/"
        },
        "id": "u8TynZ3x3MOc",
        "outputId": "8b4c0928-b8ba-46b3-e557-2903d18db1a9"
      },
      "execution_count": 41,
      "outputs": [
        {
          "output_type": "execute_result",
          "data": {
            "text/plain": [
              "dict"
            ]
          },
          "metadata": {},
          "execution_count": 41
        }
      ]
    },
    {
      "cell_type": "code",
      "source": [
        "s2={2,3,4,6,9}\n",
        "type(s2)"
      ],
      "metadata": {
        "colab": {
          "base_uri": "https://localhost:8080/"
        },
        "id": "9swz9nJ63aO4",
        "outputId": "7c989cf6-57df-40b4-db49-c347bff60a9a"
      },
      "execution_count": 42,
      "outputs": [
        {
          "output_type": "execute_result",
          "data": {
            "text/plain": [
              "set"
            ]
          },
          "metadata": {},
          "execution_count": 42
        }
      ]
    },
    {
      "cell_type": "code",
      "source": [
        "s3={1,22,2,3,6,5,5,22,9,8,9}"
      ],
      "metadata": {
        "id": "gL7dTCyX3g5z"
      },
      "execution_count": 43,
      "outputs": []
    },
    {
      "cell_type": "code",
      "source": [
        "#set only takes immutable collection in it"
      ],
      "metadata": {
        "id": "PV9VgbI-3qMj"
      },
      "execution_count": 44,
      "outputs": []
    },
    {
      "cell_type": "code",
      "source": [
        "s3"
      ],
      "metadata": {
        "colab": {
          "base_uri": "https://localhost:8080/"
        },
        "id": "C2WL-GYa4HJm",
        "outputId": "ed959f01-63f6-4d6c-9805-fb33d6b3572f"
      },
      "execution_count": 45,
      "outputs": [
        {
          "output_type": "execute_result",
          "data": {
            "text/plain": [
              "{1, 2, 3, 5, 6, 8, 9, 22}"
            ]
          },
          "metadata": {},
          "execution_count": 45
        }
      ]
    },
    {
      "cell_type": "code",
      "source": [
        "#set doesnt have indexes it hatches the values\n",
        ""
      ],
      "metadata": {
        "id": "nzz69mMA4Hu1"
      },
      "execution_count": 46,
      "outputs": []
    },
    {
      "cell_type": "code",
      "source": [
        "#dict\n",
        "d={}\n",
        "type(d)"
      ],
      "metadata": {
        "colab": {
          "base_uri": "https://localhost:8080/"
        },
        "id": "0dt8agdS5kJc",
        "outputId": "a97cef87-90a2-41ba-a14f-9770d084234c"
      },
      "execution_count": 47,
      "outputs": [
        {
          "output_type": "execute_result",
          "data": {
            "text/plain": [
              "dict"
            ]
          },
          "metadata": {},
          "execution_count": 47
        }
      ]
    },
    {
      "cell_type": "code",
      "source": [
        "d1={\"key\":\"value\"}"
      ],
      "metadata": {
        "id": "LKw6XUqO6XXQ"
      },
      "execution_count": 48,
      "outputs": []
    },
    {
      "cell_type": "code",
      "source": [
        "d1"
      ],
      "metadata": {
        "colab": {
          "base_uri": "https://localhost:8080/"
        },
        "id": "8PQa1VBP6cN1",
        "outputId": "1acc2ba8-9fb4-4910-c055-ea6b19a2fd57"
      },
      "execution_count": 49,
      "outputs": [
        {
          "output_type": "execute_result",
          "data": {
            "text/plain": [
              "{'key': 'value'}"
            ]
          },
          "metadata": {},
          "execution_count": 49
        }
      ]
    },
    {
      "cell_type": "code",
      "source": [
        "d2={\"name\":\"arun\",\"email\":\"arunmittapelli2@gmail.com\",\"number\":9834842361}"
      ],
      "metadata": {
        "id": "JBHmSAOg6dsa"
      },
      "execution_count": 50,
      "outputs": []
    },
    {
      "cell_type": "code",
      "source": [
        "d2"
      ],
      "metadata": {
        "colab": {
          "base_uri": "https://localhost:8080/"
        },
        "id": "IaXkyOS26qoc",
        "outputId": "6a684ce6-b604-42fc-dfb8-2594b9df0032"
      },
      "execution_count": 51,
      "outputs": [
        {
          "output_type": "execute_result",
          "data": {
            "text/plain": [
              "{'name': 'arun', 'email': 'arunmittapelli2@gmail.com', 'number': 9834842361}"
            ]
          },
          "metadata": {},
          "execution_count": 51
        }
      ]
    },
    {
      "cell_type": "code",
      "source": [
        "#we cant use special chac in key place you can use it in quotes which converts it into strings"
      ],
      "metadata": {
        "id": "MauqncbU6rGR"
      },
      "execution_count": 52,
      "outputs": []
    },
    {
      "cell_type": "code",
      "source": [
        "d2[\"name\"]"
      ],
      "metadata": {
        "colab": {
          "base_uri": "https://localhost:8080/",
          "height": 36
        },
        "id": "tYsQNma_6-w6",
        "outputId": "50821b9b-453b-4fb9-c0d9-e8aa797b7ef8"
      },
      "execution_count": 53,
      "outputs": [
        {
          "output_type": "execute_result",
          "data": {
            "text/plain": [
              "'arun'"
            ],
            "application/vnd.google.colaboratory.intrinsic+json": {
              "type": "string"
            }
          },
          "metadata": {},
          "execution_count": 53
        }
      ]
    },
    {
      "cell_type": "code",
      "source": [
        "d2[\"number\"]"
      ],
      "metadata": {
        "colab": {
          "base_uri": "https://localhost:8080/"
        },
        "id": "FOkWIwba7QhU",
        "outputId": "20c919db-1eff-46e9-ab29-f4e4e9fb09fd"
      },
      "execution_count": 54,
      "outputs": [
        {
          "output_type": "execute_result",
          "data": {
            "text/plain": [
              "9834842361"
            ]
          },
          "metadata": {},
          "execution_count": 54
        }
      ]
    },
    {
      "cell_type": "code",
      "source": [
        "d3={\"name\":\"arun\",\"mail_id\":\"arunmittapelli2@gmail.com\",\"name\":\"arunm\"}"
      ],
      "metadata": {
        "id": "LGQTebiN7TqY"
      },
      "execution_count": 56,
      "outputs": []
    },
    {
      "cell_type": "code",
      "source": [
        "d3[\"name\"]"
      ],
      "metadata": {
        "colab": {
          "base_uri": "https://localhost:8080/",
          "height": 36
        },
        "id": "e0mkGSJD7WJh",
        "outputId": "c34f4f44-ebe4-428f-d4e1-d5f213cab992"
      },
      "execution_count": 57,
      "outputs": [
        {
          "output_type": "execute_result",
          "data": {
            "text/plain": [
              "'arunm'"
            ],
            "application/vnd.google.colaboratory.intrinsic+json": {
              "type": "string"
            }
          },
          "metadata": {},
          "execution_count": 57
        }
      ]
    },
    {
      "cell_type": "code",
      "source": [
        "d4={\"company\":\"pwskills\",\"course\":[\"web dev\",\"data science\",\"java with dsa\"]}"
      ],
      "metadata": {
        "id": "hNnBDshi756m"
      },
      "execution_count": 58,
      "outputs": []
    },
    {
      "cell_type": "code",
      "source": [
        "d4"
      ],
      "metadata": {
        "colab": {
          "base_uri": "https://localhost:8080/"
        },
        "id": "1k7ddO248dpr",
        "outputId": "2cd1bcf2-21bb-4958-f961-885693e81d0d"
      },
      "execution_count": 59,
      "outputs": [
        {
          "output_type": "execute_result",
          "data": {
            "text/plain": [
              "{'company': 'pwskills', 'course': ['web dev', 'data science', 'java with dsa']}"
            ]
          },
          "metadata": {},
          "execution_count": 59
        }
      ]
    },
    {
      "cell_type": "code",
      "source": [
        "d4[\"course\"]"
      ],
      "metadata": {
        "colab": {
          "base_uri": "https://localhost:8080/"
        },
        "id": "sGQO83q78ejQ",
        "outputId": "14cbb8ac-9493-43c8-a087-6fbe72ab4379"
      },
      "execution_count": 60,
      "outputs": [
        {
          "output_type": "execute_result",
          "data": {
            "text/plain": [
              "['web dev', 'data science', 'java with dsa']"
            ]
          },
          "metadata": {},
          "execution_count": 60
        }
      ]
    },
    {
      "cell_type": "code",
      "source": [
        "d4[\"course\"][-1]"
      ],
      "metadata": {
        "colab": {
          "base_uri": "https://localhost:8080/",
          "height": 36
        },
        "id": "txPZtMEV8mAF",
        "outputId": "b7e1e6f4-02ee-4d94-d497-5f8ddeec0984"
      },
      "execution_count": 61,
      "outputs": [
        {
          "output_type": "execute_result",
          "data": {
            "text/plain": [
              "'java with dsa'"
            ],
            "application/vnd.google.colaboratory.intrinsic+json": {
              "type": "string"
            }
          },
          "metadata": {},
          "execution_count": 61
        }
      ]
    },
    {
      "cell_type": "code",
      "source": [
        "d5={\"number\":[2,3,6,5,8,44],\"assignment\":(1,2,3,4,5,4),\"launch_date\":{28,14,12},\"class_time\":{\"Data science masters\":8,\"web_dev\":9,\"java with dsa\":7}}"
      ],
      "metadata": {
        "id": "syZhgx_n8qqj"
      },
      "execution_count": 63,
      "outputs": []
    },
    {
      "cell_type": "code",
      "source": [
        "d5"
      ],
      "metadata": {
        "colab": {
          "base_uri": "https://localhost:8080/"
        },
        "id": "nvRJWsFW9bMr",
        "outputId": "9725782a-fd42-49d5-ac34-5bad13e77be3"
      },
      "execution_count": 64,
      "outputs": [
        {
          "output_type": "execute_result",
          "data": {
            "text/plain": [
              "{'number': [2, 3, 6, 5, 8, 44],\n",
              " 'assignment': (1, 2, 3, 4, 5, 4),\n",
              " 'launch_date': {12, 14, 28},\n",
              " 'class_time': {'Data science masters': 8, 'web_dev': 9, 'java with dsa': 7}}"
            ]
          },
          "metadata": {},
          "execution_count": 64
        }
      ]
    },
    {
      "cell_type": "code",
      "source": [
        "d5[\"class_time\"][\"web_dev\"]"
      ],
      "metadata": {
        "colab": {
          "base_uri": "https://localhost:8080/"
        },
        "id": "-0BMBSgQ9fb5",
        "outputId": "244fbb8b-85ef-44ef-9523-a0dd28926757"
      },
      "execution_count": 65,
      "outputs": [
        {
          "output_type": "execute_result",
          "data": {
            "text/plain": [
              "9"
            ]
          },
          "metadata": {},
          "execution_count": 65
        }
      ]
    },
    {
      "cell_type": "code",
      "source": [
        "d5[\"mentor\"]=[\"sudhanshu\",\"krish\",\"anurag\"]"
      ],
      "metadata": {
        "id": "2k-d4lFo-CAu"
      },
      "execution_count": 67,
      "outputs": []
    },
    {
      "cell_type": "code",
      "source": [
        "d5"
      ],
      "metadata": {
        "colab": {
          "base_uri": "https://localhost:8080/"
        },
        "id": "Ubj3PoeP-Q-B",
        "outputId": "8b27d35c-b97d-4737-d5b8-d7fa95114a65"
      },
      "execution_count": 68,
      "outputs": [
        {
          "output_type": "execute_result",
          "data": {
            "text/plain": [
              "{'number': [2, 3, 6, 5, 8, 44],\n",
              " 'assignment': (1, 2, 3, 4, 5, 4),\n",
              " 'launch_date': {12, 14, 28},\n",
              " 'class_time': {'Data science masters': 8, 'web_dev': 9, 'java with dsa': 7},\n",
              " 'mentor': ['sudhanshu', 'krish', 'anurag']}"
            ]
          },
          "metadata": {},
          "execution_count": 68
        }
      ]
    },
    {
      "cell_type": "code",
      "source": [
        "del d5[\"number\"]"
      ],
      "metadata": {
        "id": "Ror19vua-XMG"
      },
      "execution_count": 69,
      "outputs": []
    },
    {
      "cell_type": "code",
      "source": [
        "d5"
      ],
      "metadata": {
        "colab": {
          "base_uri": "https://localhost:8080/"
        },
        "id": "ALK_ANjJ-lNl",
        "outputId": "e10c3bd9-c308-4098-cbcd-2e0df0dd4ca7"
      },
      "execution_count": 70,
      "outputs": [
        {
          "output_type": "execute_result",
          "data": {
            "text/plain": [
              "{'assignment': (1, 2, 3, 4, 5, 4),\n",
              " 'launch_date': {12, 14, 28},\n",
              " 'class_time': {'Data science masters': 8, 'web_dev': 9, 'java with dsa': 7},\n",
              " 'mentor': ['sudhanshu', 'krish', 'anurag']}"
            ]
          },
          "metadata": {},
          "execution_count": 70
        }
      ]
    },
    {
      "cell_type": "code",
      "source": [
        "list(d5.keys())"
      ],
      "metadata": {
        "colab": {
          "base_uri": "https://localhost:8080/"
        },
        "id": "8tQocwMU-mA7",
        "outputId": "2f6ff414-1962-410c-972e-e8448e656e67"
      },
      "execution_count": 72,
      "outputs": [
        {
          "output_type": "execute_result",
          "data": {
            "text/plain": [
              "['assignment', 'launch_date', 'class_time', 'mentor']"
            ]
          },
          "metadata": {},
          "execution_count": 72
        }
      ]
    },
    {
      "cell_type": "code",
      "source": [
        "d5.items()"
      ],
      "metadata": {
        "colab": {
          "base_uri": "https://localhost:8080/"
        },
        "id": "JRxePxbc-pj6",
        "outputId": "1e861558-94d8-4966-f8d1-a64005c29422"
      },
      "execution_count": 73,
      "outputs": [
        {
          "output_type": "execute_result",
          "data": {
            "text/plain": [
              "dict_items([('assignment', (1, 2, 3, 4, 5, 4)), ('launch_date', {28, 12, 14}), ('class_time', {'Data science masters': 8, 'web_dev': 9, 'java with dsa': 7}), ('mentor', ['sudhanshu', 'krish', 'anurag'])])"
            ]
          },
          "metadata": {},
          "execution_count": 73
        }
      ]
    },
    {
      "cell_type": "code",
      "source": [
        "marks=int(input(\"Enter your marks: \"))\n",
        "if marks >= 80:\n",
        "  print(\"you will be a part of A0 batch\")\n",
        "elif marks >= 60 and marks<80:\n",
        "  print(\"you will be a part of A1 batch\")\n",
        "elif marks >=40 and marks <60:\n",
        "  print(\"you will be a part of A2 batch\")\n",
        "else:\n",
        "  print(\"you will be a part of A3 batch\")"
      ],
      "metadata": {
        "colab": {
          "base_uri": "https://localhost:8080/"
        },
        "id": "fndvCJAm-0GC",
        "outputId": "d924518f-8ff2-48b5-cabe-f8571bc81c27"
      },
      "execution_count": 77,
      "outputs": [
        {
          "output_type": "stream",
          "name": "stdout",
          "text": [
            "Enter your marks: 95\n",
            "you will be a part of A0 batch\n"
          ]
        }
      ]
    },
    {
      "cell_type": "code",
      "source": [
        "price=int(input(\"enter price \"))\n",
        "if price > 1000:\n",
        "  print(\"i will not purchase\")\n",
        "  if price > 5000:\n",
        "    print(\"this is too much\")\n",
        "  elif price <2000:\n",
        "    print(\"its ok\")\n",
        "elif price < 1000:\n",
        "  print(\"i will purchase\")\n",
        "else:\n",
        "  print(\"not intrested\")\n"
      ],
      "metadata": {
        "colab": {
          "base_uri": "https://localhost:8080/"
        },
        "id": "q7dnZpSSBkcb",
        "outputId": "35df3141-6eaa-4c2d-c3e7-5f33939fab8e"
      },
      "execution_count": 79,
      "outputs": [
        {
          "output_type": "stream",
          "name": "stdout",
          "text": [
            "enter price 900\n",
            "i will purchase\n"
          ]
        }
      ]
    },
    {
      "cell_type": "code",
      "source": [
        "l=[1,2,3,3,4,5,6,7,8]"
      ],
      "metadata": {
        "id": "YYAcjt5nDV6m"
      },
      "execution_count": 80,
      "outputs": []
    },
    {
      "cell_type": "code",
      "source": [
        "l1=[]\n",
        "for  i in l:\n",
        "  l1.append(i+1)"
      ],
      "metadata": {
        "id": "UudIyRY1Do1v"
      },
      "execution_count": 83,
      "outputs": []
    },
    {
      "cell_type": "code",
      "source": [
        "l1"
      ],
      "metadata": {
        "colab": {
          "base_uri": "https://localhost:8080/"
        },
        "id": "e-_u9tp3D8p4",
        "outputId": "7d2a0261-722a-4da1-bd4f-c5e65ef25ba4"
      },
      "execution_count": 84,
      "outputs": [
        {
          "output_type": "execute_result",
          "data": {
            "text/plain": [
              "[2, 3, 4, 4, 5, 6, 7, 8, 9]"
            ]
          },
          "metadata": {},
          "execution_count": 84
        }
      ]
    },
    {
      "cell_type": "code",
      "source": [
        "l=[\"sudh\",\"kumar\",\"pwskills\",\"course\"]\n",
        "l1=[]\n",
        "for i in l:\n",
        "  l1.append(i.upper())"
      ],
      "metadata": {
        "id": "MAfYHsaDEbpv"
      },
      "execution_count": 86,
      "outputs": []
    },
    {
      "cell_type": "code",
      "source": [
        "l1"
      ],
      "metadata": {
        "colab": {
          "base_uri": "https://localhost:8080/"
        },
        "id": "9dDCAkbaE0IC",
        "outputId": "07947bda-481f-4244-f6e8-29ea9c2ab224"
      },
      "execution_count": 87,
      "outputs": [
        {
          "output_type": "execute_result",
          "data": {
            "text/plain": [
              "['SUDH', 'KUMAR', 'PWSKILLS', 'COURSE']"
            ]
          },
          "metadata": {},
          "execution_count": 87
        }
      ]
    },
    {
      "cell_type": "code",
      "source": [
        "l=[1,2,3,4,4,\"sudh\",\"kumar\",324,34.456,\"abc\"]"
      ],
      "metadata": {
        "id": "t6WNuHL4FHof"
      },
      "execution_count": null,
      "outputs": []
    }
  ]
}